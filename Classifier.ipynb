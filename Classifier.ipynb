{
 "cells": [
  {
   "cell_type": "code",
   "execution_count": 43,
   "id": "46a10984-8615-48cb-9637-ebe61e72ec16",
   "metadata": {
    "tags": []
   },
   "outputs": [],
   "source": [
    "import pandas as pd\n",
    "import numpy as np\n",
    "from sklearn.model_selection import train_test_split\n",
    "from sklearn.preprocessing import StandardScaler\n",
    "from sklearn.ensemble import RandomForestClassifier\n",
    "from sklearn.metrics import recall_score\n",
    "from sklearn.metrics import f1_score\n",
    "from sklearn.preprocessing import LabelEncoder\n",
    "from sklearn.metrics import accuracy_score\n",
    "import seaborn as sns\n",
    "import matplotlib.pyplot as plt\n",
    "from sklearn.decomposition import PCA\n",
    "import joblib"
   ]
  },
  {
   "cell_type": "code",
   "execution_count": 28,
   "id": "29fb219f-5355-495a-9825-31c64e2f4972",
   "metadata": {
    "tags": []
   },
   "outputs": [],
   "source": [
    "data = pd.read_csv('./market_order.csv', low_memory=False)\n",
    "data = data.dropna()"
   ]
  },
  {
   "cell_type": "code",
   "execution_count": 29,
   "id": "9f94a7d8-121a-4415-b031-f07317e89c15",
   "metadata": {
    "tags": []
   },
   "outputs": [
    {
     "data": {
      "text/html": [
       "<div>\n",
       "<style scoped>\n",
       "    .dataframe tbody tr th:only-of-type {\n",
       "        vertical-align: middle;\n",
       "    }\n",
       "\n",
       "    .dataframe tbody tr th {\n",
       "        vertical-align: top;\n",
       "    }\n",
       "\n",
       "    .dataframe thead th {\n",
       "        text-align: right;\n",
       "    }\n",
       "</style>\n",
       "<table border=\"1\" class=\"dataframe\">\n",
       "  <thead>\n",
       "    <tr style=\"text-align: right;\">\n",
       "      <th></th>\n",
       "      <th>OrderId</th>\n",
       "      <th>ItemId</th>\n",
       "      <th>LocationId</th>\n",
       "      <th>QualityLevel</th>\n",
       "      <th>UnitPriceSilver</th>\n",
       "      <th>Amount</th>\n",
       "      <th>AuctionType</th>\n",
       "      <th>Tier</th>\n",
       "      <th>Subtier</th>\n",
       "      <th>Trusted</th>\n",
       "    </tr>\n",
       "  </thead>\n",
       "  <tbody>\n",
       "    <tr>\n",
       "      <th>0</th>\n",
       "      <td>1.045759e+10</td>\n",
       "      <td>TREASURE_KNOWLEDGE_RARITY3</td>\n",
       "      <td>1002</td>\n",
       "      <td>1</td>\n",
       "      <td>23733</td>\n",
       "      <td>2</td>\n",
       "      <td>offer</td>\n",
       "      <td>1</td>\n",
       "      <td>0.0</td>\n",
       "      <td>True</td>\n",
       "    </tr>\n",
       "    <tr>\n",
       "      <th>1</th>\n",
       "      <td>1.045752e+10</td>\n",
       "      <td>TREASURE_KNOWLEDGE_RARITY3</td>\n",
       "      <td>1002</td>\n",
       "      <td>1</td>\n",
       "      <td>23736</td>\n",
       "      <td>1</td>\n",
       "      <td>offer</td>\n",
       "      <td>1</td>\n",
       "      <td>0.0</td>\n",
       "      <td>True</td>\n",
       "    </tr>\n",
       "    <tr>\n",
       "      <th>2</th>\n",
       "      <td>1.045748e+10</td>\n",
       "      <td>TREASURE_KNOWLEDGE_RARITY3</td>\n",
       "      <td>1002</td>\n",
       "      <td>1</td>\n",
       "      <td>23738</td>\n",
       "      <td>4</td>\n",
       "      <td>offer</td>\n",
       "      <td>1</td>\n",
       "      <td>0.0</td>\n",
       "      <td>True</td>\n",
       "    </tr>\n",
       "    <tr>\n",
       "      <th>3</th>\n",
       "      <td>1.045752e+10</td>\n",
       "      <td>TREASURE_KNOWLEDGE_RARITY3</td>\n",
       "      <td>1002</td>\n",
       "      <td>1</td>\n",
       "      <td>23736</td>\n",
       "      <td>1</td>\n",
       "      <td>offer</td>\n",
       "      <td>1</td>\n",
       "      <td>0.0</td>\n",
       "      <td>True</td>\n",
       "    </tr>\n",
       "    <tr>\n",
       "      <th>4</th>\n",
       "      <td>1.045749e+10</td>\n",
       "      <td>TREASURE_KNOWLEDGE_RARITY3</td>\n",
       "      <td>1002</td>\n",
       "      <td>1</td>\n",
       "      <td>23738</td>\n",
       "      <td>13</td>\n",
       "      <td>offer</td>\n",
       "      <td>1</td>\n",
       "      <td>0.0</td>\n",
       "      <td>True</td>\n",
       "    </tr>\n",
       "  </tbody>\n",
       "</table>\n",
       "</div>"
      ],
      "text/plain": [
       "        OrderId                      ItemId  LocationId  QualityLevel   \n",
       "0  1.045759e+10  TREASURE_KNOWLEDGE_RARITY3        1002             1  \\\n",
       "1  1.045752e+10  TREASURE_KNOWLEDGE_RARITY3        1002             1   \n",
       "2  1.045748e+10  TREASURE_KNOWLEDGE_RARITY3        1002             1   \n",
       "3  1.045752e+10  TREASURE_KNOWLEDGE_RARITY3        1002             1   \n",
       "4  1.045749e+10  TREASURE_KNOWLEDGE_RARITY3        1002             1   \n",
       "\n",
       "   UnitPriceSilver  Amount AuctionType  Tier  Subtier  Trusted  \n",
       "0            23733       2       offer     1      0.0     True  \n",
       "1            23736       1       offer     1      0.0     True  \n",
       "2            23738       4       offer     1      0.0     True  \n",
       "3            23736       1       offer     1      0.0     True  \n",
       "4            23738      13       offer     1      0.0     True  "
      ]
     },
     "metadata": {},
     "output_type": "display_data"
    },
    {
     "name": "stdout",
     "output_type": "stream",
     "text": [
      "<class 'pandas.core.frame.DataFrame'>\n",
      "Index: 4027158 entries, 0 to 4195980\n",
      "Data columns (total 10 columns):\n",
      " #   Column           Dtype  \n",
      "---  ------           -----  \n",
      " 0   OrderId          float64\n",
      " 1   ItemId           object \n",
      " 2   LocationId       int64  \n",
      " 3   QualityLevel     int64  \n",
      " 4   UnitPriceSilver  int64  \n",
      " 5   Amount           int64  \n",
      " 6   AuctionType      object \n",
      " 7   Tier             int64  \n",
      " 8   Subtier          float64\n",
      " 9   Trusted          bool   \n",
      "dtypes: bool(1), float64(2), int64(5), object(2)\n",
      "memory usage: 311.1+ MB\n"
     ]
    },
    {
     "data": {
      "text/plain": [
       "None"
      ]
     },
     "metadata": {},
     "output_type": "display_data"
    },
    {
     "data": {
      "text/plain": [
       "OrderId            0\n",
       "ItemId             0\n",
       "LocationId         0\n",
       "QualityLevel       0\n",
       "UnitPriceSilver    0\n",
       "Amount             0\n",
       "AuctionType        0\n",
       "Tier               0\n",
       "Subtier            0\n",
       "Trusted            0\n",
       "dtype: int64"
      ]
     },
     "metadata": {},
     "output_type": "display_data"
    },
    {
     "data": {
      "text/html": [
       "<div>\n",
       "<style scoped>\n",
       "    .dataframe tbody tr th:only-of-type {\n",
       "        vertical-align: middle;\n",
       "    }\n",
       "\n",
       "    .dataframe tbody tr th {\n",
       "        vertical-align: top;\n",
       "    }\n",
       "\n",
       "    .dataframe thead th {\n",
       "        text-align: right;\n",
       "    }\n",
       "</style>\n",
       "<table border=\"1\" class=\"dataframe\">\n",
       "  <thead>\n",
       "    <tr style=\"text-align: right;\">\n",
       "      <th></th>\n",
       "      <th>OrderId</th>\n",
       "      <th>LocationId</th>\n",
       "      <th>QualityLevel</th>\n",
       "      <th>UnitPriceSilver</th>\n",
       "      <th>Amount</th>\n",
       "      <th>Tier</th>\n",
       "      <th>Subtier</th>\n",
       "    </tr>\n",
       "  </thead>\n",
       "  <tbody>\n",
       "    <tr>\n",
       "      <th>count</th>\n",
       "      <td>4.027158e+06</td>\n",
       "      <td>4.027158e+06</td>\n",
       "      <td>4.027158e+06</td>\n",
       "      <td>4.027158e+06</td>\n",
       "      <td>4.027158e+06</td>\n",
       "      <td>4.027158e+06</td>\n",
       "      <td>4.027158e+06</td>\n",
       "    </tr>\n",
       "    <tr>\n",
       "      <th>mean</th>\n",
       "      <td>2.025527e+10</td>\n",
       "      <td>2.407288e+03</td>\n",
       "      <td>2.219653e+00</td>\n",
       "      <td>1.216512e+08</td>\n",
       "      <td>1.781760e+02</td>\n",
       "      <td>5.221849e+00</td>\n",
       "      <td>7.644021e-01</td>\n",
       "    </tr>\n",
       "    <tr>\n",
       "      <th>std</th>\n",
       "      <td>2.206973e+10</td>\n",
       "      <td>1.350816e+03</td>\n",
       "      <td>1.254487e+00</td>\n",
       "      <td>2.573170e+08</td>\n",
       "      <td>5.395287e+02</td>\n",
       "      <td>1.741779e+00</td>\n",
       "      <td>1.131365e+00</td>\n",
       "    </tr>\n",
       "    <tr>\n",
       "      <th>min</th>\n",
       "      <td>1.165420e+05</td>\n",
       "      <td>7.000000e+00</td>\n",
       "      <td>1.000000e+00</td>\n",
       "      <td>1.000000e+00</td>\n",
       "      <td>0.000000e+00</td>\n",
       "      <td>1.000000e+00</td>\n",
       "      <td>0.000000e+00</td>\n",
       "    </tr>\n",
       "    <tr>\n",
       "      <th>25%</th>\n",
       "      <td>1.046278e+10</td>\n",
       "      <td>1.002000e+03</td>\n",
       "      <td>1.000000e+00</td>\n",
       "      <td>4.652000e+03</td>\n",
       "      <td>1.000000e+00</td>\n",
       "      <td>4.000000e+00</td>\n",
       "      <td>0.000000e+00</td>\n",
       "    </tr>\n",
       "    <tr>\n",
       "      <th>50%</th>\n",
       "      <td>1.047265e+10</td>\n",
       "      <td>3.003000e+03</td>\n",
       "      <td>2.000000e+00</td>\n",
       "      <td>3.998800e+04</td>\n",
       "      <td>2.000000e+00</td>\n",
       "      <td>5.000000e+00</td>\n",
       "      <td>0.000000e+00</td>\n",
       "    </tr>\n",
       "    <tr>\n",
       "      <th>75%</th>\n",
       "      <td>1.243148e+10</td>\n",
       "      <td>3.008000e+03</td>\n",
       "      <td>3.000000e+00</td>\n",
       "      <td>2.000000e+06</td>\n",
       "      <td>1.420000e+02</td>\n",
       "      <td>6.000000e+00</td>\n",
       "      <td>1.000000e+00</td>\n",
       "    </tr>\n",
       "    <tr>\n",
       "      <th>max</th>\n",
       "      <td>9.999963e+10</td>\n",
       "      <td>5.003000e+03</td>\n",
       "      <td>5.000000e+00</td>\n",
       "      <td>1.000000e+09</td>\n",
       "      <td>9.999000e+03</td>\n",
       "      <td>8.000000e+00</td>\n",
       "      <td>4.000000e+00</td>\n",
       "    </tr>\n",
       "  </tbody>\n",
       "</table>\n",
       "</div>"
      ],
      "text/plain": [
       "            OrderId    LocationId  QualityLevel  UnitPriceSilver   \n",
       "count  4.027158e+06  4.027158e+06  4.027158e+06     4.027158e+06  \\\n",
       "mean   2.025527e+10  2.407288e+03  2.219653e+00     1.216512e+08   \n",
       "std    2.206973e+10  1.350816e+03  1.254487e+00     2.573170e+08   \n",
       "min    1.165420e+05  7.000000e+00  1.000000e+00     1.000000e+00   \n",
       "25%    1.046278e+10  1.002000e+03  1.000000e+00     4.652000e+03   \n",
       "50%    1.047265e+10  3.003000e+03  2.000000e+00     3.998800e+04   \n",
       "75%    1.243148e+10  3.008000e+03  3.000000e+00     2.000000e+06   \n",
       "max    9.999963e+10  5.003000e+03  5.000000e+00     1.000000e+09   \n",
       "\n",
       "             Amount          Tier       Subtier  \n",
       "count  4.027158e+06  4.027158e+06  4.027158e+06  \n",
       "mean   1.781760e+02  5.221849e+00  7.644021e-01  \n",
       "std    5.395287e+02  1.741779e+00  1.131365e+00  \n",
       "min    0.000000e+00  1.000000e+00  0.000000e+00  \n",
       "25%    1.000000e+00  4.000000e+00  0.000000e+00  \n",
       "50%    2.000000e+00  5.000000e+00  0.000000e+00  \n",
       "75%    1.420000e+02  6.000000e+00  1.000000e+00  \n",
       "max    9.999000e+03  8.000000e+00  4.000000e+00  "
      ]
     },
     "metadata": {},
     "output_type": "display_data"
    }
   ],
   "source": [
    "display(data.head())\n",
    "display(data.info())\n",
    "display(data.isna().sum())\n",
    "display(data.describe())"
   ]
  },
  {
   "cell_type": "code",
   "execution_count": 30,
   "id": "5e4edde2-3a8e-4e83-bec2-9a3872f260ea",
   "metadata": {
    "tags": []
   },
   "outputs": [
    {
     "data": {
      "text/html": [
       "<div>\n",
       "<style scoped>\n",
       "    .dataframe tbody tr th:only-of-type {\n",
       "        vertical-align: middle;\n",
       "    }\n",
       "\n",
       "    .dataframe tbody tr th {\n",
       "        vertical-align: top;\n",
       "    }\n",
       "\n",
       "    .dataframe thead th {\n",
       "        text-align: right;\n",
       "    }\n",
       "</style>\n",
       "<table border=\"1\" class=\"dataframe\">\n",
       "  <thead>\n",
       "    <tr style=\"text-align: right;\">\n",
       "      <th></th>\n",
       "      <th>OrderId</th>\n",
       "      <th>ItemId</th>\n",
       "      <th>LocationId</th>\n",
       "      <th>QualityLevel</th>\n",
       "      <th>UnitPriceSilver</th>\n",
       "      <th>Amount</th>\n",
       "      <th>AuctionType</th>\n",
       "      <th>Tier</th>\n",
       "      <th>Subtier</th>\n",
       "      <th>Trusted</th>\n",
       "    </tr>\n",
       "  </thead>\n",
       "  <tbody>\n",
       "    <tr>\n",
       "      <th>0</th>\n",
       "      <td>1.045759e+10</td>\n",
       "      <td>8018</td>\n",
       "      <td>1</td>\n",
       "      <td>1</td>\n",
       "      <td>23733</td>\n",
       "      <td>2</td>\n",
       "      <td>0</td>\n",
       "      <td>1</td>\n",
       "      <td>0.0</td>\n",
       "      <td>1</td>\n",
       "    </tr>\n",
       "    <tr>\n",
       "      <th>1</th>\n",
       "      <td>1.045752e+10</td>\n",
       "      <td>8018</td>\n",
       "      <td>1</td>\n",
       "      <td>1</td>\n",
       "      <td>23736</td>\n",
       "      <td>1</td>\n",
       "      <td>0</td>\n",
       "      <td>1</td>\n",
       "      <td>0.0</td>\n",
       "      <td>1</td>\n",
       "    </tr>\n",
       "    <tr>\n",
       "      <th>2</th>\n",
       "      <td>1.045748e+10</td>\n",
       "      <td>8018</td>\n",
       "      <td>1</td>\n",
       "      <td>1</td>\n",
       "      <td>23738</td>\n",
       "      <td>4</td>\n",
       "      <td>0</td>\n",
       "      <td>1</td>\n",
       "      <td>0.0</td>\n",
       "      <td>1</td>\n",
       "    </tr>\n",
       "    <tr>\n",
       "      <th>3</th>\n",
       "      <td>1.045752e+10</td>\n",
       "      <td>8018</td>\n",
       "      <td>1</td>\n",
       "      <td>1</td>\n",
       "      <td>23736</td>\n",
       "      <td>1</td>\n",
       "      <td>0</td>\n",
       "      <td>1</td>\n",
       "      <td>0.0</td>\n",
       "      <td>1</td>\n",
       "    </tr>\n",
       "    <tr>\n",
       "      <th>4</th>\n",
       "      <td>1.045749e+10</td>\n",
       "      <td>8018</td>\n",
       "      <td>1</td>\n",
       "      <td>1</td>\n",
       "      <td>23738</td>\n",
       "      <td>13</td>\n",
       "      <td>0</td>\n",
       "      <td>1</td>\n",
       "      <td>0.0</td>\n",
       "      <td>1</td>\n",
       "    </tr>\n",
       "  </tbody>\n",
       "</table>\n",
       "</div>"
      ],
      "text/plain": [
       "        OrderId  ItemId  LocationId  QualityLevel  UnitPriceSilver  Amount   \n",
       "0  1.045759e+10    8018           1             1            23733       2  \\\n",
       "1  1.045752e+10    8018           1             1            23736       1   \n",
       "2  1.045748e+10    8018           1             1            23738       4   \n",
       "3  1.045752e+10    8018           1             1            23736       1   \n",
       "4  1.045749e+10    8018           1             1            23738      13   \n",
       "\n",
       "   AuctionType  Tier  Subtier  Trusted  \n",
       "0            0     1      0.0        1  \n",
       "1            0     1      0.0        1  \n",
       "2            0     1      0.0        1  \n",
       "3            0     1      0.0        1  \n",
       "4            0     1      0.0        1  "
      ]
     },
     "metadata": {},
     "output_type": "display_data"
    }
   ],
   "source": [
    "\n",
    "labelEncoderItemId = LabelEncoder()\n",
    "labelEncoderAuctionType = LabelEncoder()\n",
    "labelEncoderLocationId = LabelEncoder()\n",
    "labelEncoderTrusted = LabelEncoder()\n",
    "\n",
    "# Обучаем энкодеры, чтобы в дальнейшем их сохранить и использовать на входных данных\n",
    "data['ItemId'] = labelEncoderItemId.fit_transform(data['ItemId'].values)\n",
    "data['AuctionType'] = labelEncoderAuctionType.fit_transform(data['AuctionType'].values)\n",
    "data['LocationId'] = labelEncoderLocationId.fit_transform(data['LocationId'].values)\n",
    "data['Trusted'] = labelEncoderTrusted.fit_transform(data['Trusted'].values)\n",
    "\n",
    "display(data.head())"
   ]
  },
  {
   "cell_type": "code",
   "execution_count": 31,
   "id": "908ccdff-6d15-43fa-ae42-730883f8ea15",
   "metadata": {
    "tags": []
   },
   "outputs": [],
   "source": [
    "X = data.drop('Trusted', axis=1) # признаки\n",
    "y = data['Trusted'] # целевая переменная"
   ]
  },
  {
   "cell_type": "code",
   "execution_count": 32,
   "id": "92034fb6-56ea-4104-9f2f-7671f8bfbc7a",
   "metadata": {
    "tags": []
   },
   "outputs": [],
   "source": [
    "X_train, X_test, y_train, y_test = train_test_split(X, y, test_size=0.2, random_state=51)"
   ]
  },
  {
   "cell_type": "code",
   "execution_count": 33,
   "id": "e80f4c69-d3f6-414f-9f71-3625e51ccf28",
   "metadata": {
    "tags": []
   },
   "outputs": [
    {
     "data": {
      "text/plain": [
       "array([[-0.44321368,  0.21087279, -0.56983137, ..., -0.61238751,\n",
       "         0.44660235, -0.67576422],\n",
       "       [ 1.36471842,  0.87523123,  1.77791329, ..., -0.61238751,\n",
       "         1.02066811, -0.67576422],\n",
       "       [-0.10980702,  1.09945767,  1.30836436, ...,  1.63295297,\n",
       "         1.02066811, -0.67576422],\n",
       "       ...,\n",
       "       [-0.44343318, -1.53257541,  0.83881542, ..., -0.61238751,\n",
       "        -2.42372648, -0.67576422],\n",
       "       [-0.44400231, -0.72895133, -1.50892923, ...,  1.63295297,\n",
       "        -0.70152918, -0.67576422],\n",
       "       [-0.44398859, -0.13116012,  1.30836436, ..., -0.61238751,\n",
       "        -0.12746342, -0.67576422]])"
      ]
     },
     "metadata": {},
     "output_type": "display_data"
    },
    {
     "data": {
      "text/plain": [
       "array([1, 1, 1, ..., 1, 0, 0])"
      ]
     },
     "metadata": {},
     "output_type": "display_data"
    }
   ],
   "source": [
    "# Масштабируем данные\n",
    "ss = StandardScaler()\n",
    "X_train_scaled = ss.fit_transform(X_train)\n",
    "X_test_scaled = ss.transform(X_test)\n",
    "y_train = np.array(y_train)\n",
    "\n",
    "display(X_test_scaled)\n",
    "display(y_train)"
   ]
  },
  {
   "cell_type": "code",
   "execution_count": 34,
   "id": "3de4263e-a78b-42e7-ae31-bb141a5d1407",
   "metadata": {
    "tags": []
   },
   "outputs": [],
   "source": [
    "# rfc = RandomForestClassifier(n_estimators=100, max_depth=2, random_state=0)\n",
    "rfc = RandomForestClassifier()"
   ]
  },
  {
   "cell_type": "code",
   "execution_count": 35,
   "id": "6c32cbff-ea0a-4852-b022-e7938cf60d5d",
   "metadata": {
    "tags": []
   },
   "outputs": [
    {
     "data": {
      "text/plain": [
       "1.0"
      ]
     },
     "metadata": {},
     "output_type": "display_data"
    }
   ],
   "source": [
    "rfc.fit(X_train_scaled, y_train)\n",
    "display(rfc.score(X_train_scaled, y_train))"
   ]
  },
  {
   "cell_type": "code",
   "execution_count": 47,
   "id": "b9ce0698-cfcf-4e17-af29-ddb3a469a1be",
   "metadata": {
    "tags": []
   },
   "outputs": [
    {
     "data": {
      "image/png": "[encoded data removed]",
      "text/plain": [
       "<Figure size 3000x2500 with 1 Axes>"
      ]
     },
     "metadata": {},
     "output_type": "display_data"
    },
    {
     "data": {
      "text/plain": [
       "None"
      ]
     },
     "metadata": {},
     "output_type": "display_data"
    },
    {
     "data": {
      "text/html": [
       "<div>\n",
       "<style scoped>\n",
       "    .dataframe tbody tr th:only-of-type {\n",
       "        vertical-align: middle;\n",
       "    }\n",
       "\n",
       "    .dataframe tbody tr th {\n",
       "        vertical-align: top;\n",
       "    }\n",
       "\n",
       "    .dataframe thead th {\n",
       "        text-align: right;\n",
       "    }\n",
       "</style>\n",
       "<table border=\"1\" class=\"dataframe\">\n",
       "  <thead>\n",
       "    <tr style=\"text-align: right;\">\n",
       "      <th></th>\n",
       "      <th>Features</th>\n",
       "      <th>Gini-Importance</th>\n",
       "    </tr>\n",
       "  </thead>\n",
       "  <tbody>\n",
       "    <tr>\n",
       "      <th>0</th>\n",
       "      <td>UnitPriceSilver</td>\n",
       "      <td>0.409611</td>\n",
       "    </tr>\n",
       "    <tr>\n",
       "      <th>1</th>\n",
       "      <td>OrderId</td>\n",
       "      <td>0.349521</td>\n",
       "    </tr>\n",
       "    <tr>\n",
       "      <th>2</th>\n",
       "      <td>Amount</td>\n",
       "      <td>0.199614</td>\n",
       "    </tr>\n",
       "    <tr>\n",
       "      <th>3</th>\n",
       "      <td>QualityLevel</td>\n",
       "      <td>0.023083</td>\n",
       "    </tr>\n",
       "    <tr>\n",
       "      <th>4</th>\n",
       "      <td>AuctionType</td>\n",
       "      <td>0.011427</td>\n",
       "    </tr>\n",
       "    <tr>\n",
       "      <th>5</th>\n",
       "      <td>Subtier</td>\n",
       "      <td>0.004749</td>\n",
       "    </tr>\n",
       "    <tr>\n",
       "      <th>6</th>\n",
       "      <td>LocationId</td>\n",
       "      <td>0.001032</td>\n",
       "    </tr>\n",
       "    <tr>\n",
       "      <th>7</th>\n",
       "      <td>ItemId</td>\n",
       "      <td>0.000698</td>\n",
       "    </tr>\n",
       "    <tr>\n",
       "      <th>8</th>\n",
       "      <td>Tier</td>\n",
       "      <td>0.000266</td>\n",
       "    </tr>\n",
       "  </tbody>\n",
       "</table>\n",
       "</div>"
      ],
      "text/plain": [
       "          Features  Gini-Importance\n",
       "0  UnitPriceSilver         0.409611\n",
       "1          OrderId         0.349521\n",
       "2           Amount         0.199614\n",
       "3     QualityLevel         0.023083\n",
       "4      AuctionType         0.011427\n",
       "5          Subtier         0.004749\n",
       "6       LocationId         0.001032\n",
       "7           ItemId         0.000698\n",
       "8             Tier         0.000266"
      ]
     },
     "metadata": {},
     "output_type": "display_data"
    }
   ],
   "source": [
    "feats = {}\n",
    "for feature, importance in zip(data.columns, rfc.feature_importances_):\n",
    "    feats[feature] = importance\n",
    "importances = pd.DataFrame.from_dict(feats, orient='index').rename(columns={0: 'Gini-Importance'})\n",
    "importances = importances.sort_values(by='Gini-Importance', ascending=False)\n",
    "importances = importances.reset_index()\n",
    "importances = importances.rename(columns={'index': 'Features'})\n",
    "sns.set(font_scale = 5)\n",
    "sns.set(style=\"whitegrid\", color_codes=True, font_scale = 1.7)\n",
    "fig, ax = plt.subplots()\n",
    "fig.set_size_inches(30,25)\n",
    "sns.barplot(x=importances['Gini-Importance'], y=importances['Features'], data=importances, color='skyblue')\n",
    "plt.xlabel('Importance', fontsize=25, weight = 'bold')\n",
    "plt.ylabel('Features', fontsize=25, weight = 'bold')\n",
    "plt.title('Feature Importance', fontsize=25, weight = 'bold')\n",
    "display(plt.show())\n",
    "display(importances)"
   ]
  },
  {
   "cell_type": "code",
   "execution_count": 48,
   "id": "c8bcf8e9-c2d2-4952-bb29-8b294f32db2b",
   "metadata": {
    "tags": []
   },
   "outputs": [
    {
     "data": {
      "image/png": "[encoded data removed]",
      "text/plain": [
       "<Figure size 640x480 with 1 Axes>"
      ]
     },
     "metadata": {},
     "output_type": "display_data"
    },
    {
     "data": {
      "text/plain": [
       "None"
      ]
     },
     "metadata": {},
     "output_type": "display_data"
    },
    {
     "data": {
      "text/html": [
       "<div>\n",
       "<style scoped>\n",
       "    .dataframe tbody tr th:only-of-type {\n",
       "        vertical-align: middle;\n",
       "    }\n",
       "\n",
       "    .dataframe tbody tr th {\n",
       "        vertical-align: top;\n",
       "    }\n",
       "\n",
       "    .dataframe thead th {\n",
       "        text-align: right;\n",
       "    }\n",
       "</style>\n",
       "<table border=\"1\" class=\"dataframe\">\n",
       "  <thead>\n",
       "    <tr style=\"text-align: right;\">\n",
       "      <th></th>\n",
       "      <th>Cumulative Variance Ratio</th>\n",
       "      <th>Explained Variance Ratio</th>\n",
       "    </tr>\n",
       "  </thead>\n",
       "  <tbody>\n",
       "    <tr>\n",
       "      <th>0</th>\n",
       "      <td>0.264020</td>\n",
       "      <td>0.264020</td>\n",
       "    </tr>\n",
       "    <tr>\n",
       "      <th>1</th>\n",
       "      <td>0.433618</td>\n",
       "      <td>0.169598</td>\n",
       "    </tr>\n",
       "    <tr>\n",
       "      <th>2</th>\n",
       "      <td>0.556896</td>\n",
       "      <td>0.123279</td>\n",
       "    </tr>\n",
       "    <tr>\n",
       "      <th>3</th>\n",
       "      <td>0.667278</td>\n",
       "      <td>0.110382</td>\n",
       "    </tr>\n",
       "    <tr>\n",
       "      <th>4</th>\n",
       "      <td>0.763213</td>\n",
       "      <td>0.095935</td>\n",
       "    </tr>\n",
       "    <tr>\n",
       "      <th>5</th>\n",
       "      <td>0.845549</td>\n",
       "      <td>0.082336</td>\n",
       "    </tr>\n",
       "    <tr>\n",
       "      <th>6</th>\n",
       "      <td>0.916644</td>\n",
       "      <td>0.071095</td>\n",
       "    </tr>\n",
       "    <tr>\n",
       "      <th>7</th>\n",
       "      <td>0.959779</td>\n",
       "      <td>0.043135</td>\n",
       "    </tr>\n",
       "    <tr>\n",
       "      <th>8</th>\n",
       "      <td>1.000000</td>\n",
       "      <td>0.040221</td>\n",
       "    </tr>\n",
       "  </tbody>\n",
       "</table>\n",
       "</div>"
      ],
      "text/plain": [
       "   Cumulative Variance Ratio  Explained Variance Ratio\n",
       "0                   0.264020                  0.264020\n",
       "1                   0.433618                  0.169598\n",
       "2                   0.556896                  0.123279\n",
       "3                   0.667278                  0.110382\n",
       "4                   0.763213                  0.095935\n",
       "5                   0.845549                  0.082336\n",
       "6                   0.916644                  0.071095\n",
       "7                   0.959779                  0.043135\n",
       "8                   1.000000                  0.040221"
      ]
     },
     "metadata": {},
     "output_type": "display_data"
    }
   ],
   "source": [
    "pca_test = PCA(n_components=9)\n",
    "pca_test.fit(X_train_scaled)\n",
    "sns.set(style='whitegrid')\n",
    "plt.plot(np.cumsum(pca_test.explained_variance_ratio_))\n",
    "plt.xlabel('number of components')\n",
    "plt.ylabel('cumulative explained variance')\n",
    "plt.axvline(linewidth=4, color='r', linestyle = '--', x=5, ymin=0, ymax=1)\n",
    "display(plt.show())\n",
    "evr = pca_test.explained_variance_ratio_\n",
    "cvr = np.cumsum(pca_test.explained_variance_ratio_)\n",
    "pca_df = pd.DataFrame()\n",
    "pca_df['Cumulative Variance Ratio'] = cvr\n",
    "pca_df['Explained Variance Ratio'] = evr\n",
    "display(pca_df.head(10))"
   ]
  },
  {
   "cell_type": "code",
   "execution_count": 41,
   "id": "d1d166cb-45bf-4bfc-a44d-baa982f7a657",
   "metadata": {
    "tags": []
   },
   "outputs": [],
   "source": [
    "y_pred = rfc.predict(X_test_scaled)"
   ]
  },
  {
   "cell_type": "code",
   "execution_count": 46,
   "id": "02ada742-fa56-408e-a365-037aa42e0bec",
   "metadata": {
    "tags": []
   },
   "outputs": [
    {
     "data": {
      "text/html": [
       "<div>\n",
       "<style scoped>\n",
       "    .dataframe tbody tr th:only-of-type {\n",
       "        vertical-align: middle;\n",
       "    }\n",
       "\n",
       "    .dataframe tbody tr th {\n",
       "        vertical-align: top;\n",
       "    }\n",
       "\n",
       "    .dataframe thead th {\n",
       "        text-align: right;\n",
       "    }\n",
       "</style>\n",
       "<table border=\"1\" class=\"dataframe\">\n",
       "  <thead>\n",
       "    <tr style=\"text-align: right;\">\n",
       "      <th></th>\n",
       "      <th>predicted NOT trusted</th>\n",
       "      <th>predicted trusted</th>\n",
       "    </tr>\n",
       "  </thead>\n",
       "  <tbody>\n",
       "    <tr>\n",
       "      <th>actual NOT trusted</th>\n",
       "      <td>195438</td>\n",
       "      <td>1</td>\n",
       "    </tr>\n",
       "    <tr>\n",
       "      <th>actual trusted</th>\n",
       "      <td>1</td>\n",
       "      <td>609992</td>\n",
       "    </tr>\n",
       "  </tbody>\n",
       "</table>\n",
       "</div>"
      ],
      "text/plain": [
       "                    predicted NOT trusted  predicted trusted\n",
       "actual NOT trusted                 195438                  1\n",
       "actual trusted                          1             609992"
      ]
     },
     "metadata": {},
     "output_type": "display_data"
    },
    {
     "data": {
      "text/plain": [
       "'Baseline Random Forest recall score'"
      ]
     },
     "metadata": {},
     "output_type": "display_data"
    },
    {
     "data": {
      "text/plain": [
       "0.9999983606369254"
      ]
     },
     "metadata": {},
     "output_type": "display_data"
    },
    {
     "data": {
      "text/plain": [
       "'Baseline Random Forest f1 score'"
      ]
     },
     "metadata": {},
     "output_type": "display_data"
    },
    {
     "data": {
      "text/plain": [
       "0.9999983606369254"
      ]
     },
     "metadata": {},
     "output_type": "display_data"
    }
   ],
   "source": [
    "from sklearn.metrics import confusion_matrix\n",
    "conf_matrix_baseline = pd.DataFrame(confusion_matrix(y_test, y_pred), index = ['actual NOT trusted', 'actual trusted'], columns = ['predicted NOT trusted', 'predicted trusted'])\n",
    "display(conf_matrix_baseline)\n",
    "display('Baseline Random Forest recall score', recall_score(y_test, y_pred))\n",
    "display('Baseline Random Forest f1 score', f1_score(y_test, y_pred))\n"
   ]
  },
  {
   "cell_type": "code",
   "execution_count": 40,
   "id": "62149e8b-2d4b-4287-a318-185b29b77fed",
   "metadata": {
    "tags": []
   },
   "outputs": [
    {
     "data": {
      "text/plain": [
       "['./NatsTrap/build/standardscaler.pkl']"
      ]
     },
     "execution_count": 40,
     "metadata": {},
     "output_type": "execute_result"
    }
   ],
   "source": [
    "joblib.dump(rfc, './NatsTrap/build/neural_network.pkl')\n",
    "\n",
    "joblib.dump(labelEncoderItemId, './NatsTrap/build/labelEncoderItemId.pkl')\n",
    "joblib.dump(labelEncoderAuctionType, './NatsTrap/build/labelEncoderAuctionType.pkl')\n",
    "joblib.dump(labelEncoderLocationId, './NatsTrap/build/labelEncoderLocationId.pkl')\n",
    "joblib.dump(labelEncoderTrusted, './NatsTrap/build/labelEncoderTrusted.pkl')\n",
    "\n",
    "joblib.dump(ss, './NatsTrap/build/standardscaler.pkl')"
   ]
  },
  {
   "cell_type": "code",
   "execution_count": 158,
   "id": "324b728b-ff0e-4512-9e63-21a5347ab47b",
   "metadata": {
    "tags": []
   },
   "outputs": [
    {
     "data": {
      "text/plain": [
       "array([-0.18226127,  0.89023907, -1.50341987,  0.93105799, -0.05084473,\n",
       "       -0.16377395, -0.50924758,  1.09968647,  0.30587406])"
      ]
     },
     "execution_count": 158,
     "metadata": {},
     "output_type": "execute_result"
    }
   ],
   "source": []
  },
  {
   "cell_type": "code",
   "execution_count": 159,
   "id": "e57d67dd-24e3-4ba3-a613-bcddbb936ec5",
   "metadata": {
    "tags": []
   },
   "outputs": [
    {
     "data": {
      "text/plain": [
       "array([8196, 6652])"
      ]
     },
     "execution_count": 159,
     "metadata": {},
     "output_type": "execute_result"
    }
   ],
   "source": [
    "labelEncoderItemId.transform(['TREASURE_KNOWLEDGE_RARITY3', 'T7_SOUL'])"
   ]
  },
  {
   "cell_type": "code",
   "execution_count": null,
   "id": "acc37a51-c610-4748-ba9f-6b9dc2fc9afc",
   "metadata": {},
   "outputs": [],
   "source": []
  }
 ],
 "metadata": {
  "kernelspec": {
   "display_name": "Python 3 (ipykernel)",
   "language": "python",
   "name": "python3"
  },
  "language_info": {
   "codemirror_mode": {
    "name": "ipython",
    "version": 3
   },
   "file_extension": ".py",
   "mimetype": "text/x-python",
   "name": "python",
   "nbconvert_exporter": "python",
   "pygments_lexer": "ipython3",
   "version": "3.11.3"
  }
 },
 "nbformat": 4,
 "nbformat_minor": 5
}
