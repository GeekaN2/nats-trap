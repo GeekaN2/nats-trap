{
 "cells": [
  {
   "cell_type": "code",
   "execution_count": 4,
   "id": "690b86a0-f168-4f0d-b59e-ec3593b98d66",
   "metadata": {
    "tags": []
   },
   "outputs": [],
   "source": [
    "import pickle\n",
    "# Импортируем все пакеты, которые необходимы для вашей модели\n",
    "import numpy as np\n",
    "from sklearn.neighbors import KNeighborsClassifier\n",
    "import joblib\n"
   ]
  },
  {
   "cell_type": "code",
   "execution_count": 8,
   "id": "f1dcd7b6-ebee-4b26-8e36-8bc7e6104fee",
   "metadata": {
    "tags": []
   },
   "outputs": [
    {
     "data": {
      "text/plain": [
       "array([1])"
      ]
     },
     "metadata": {},
     "output_type": "display_data"
    }
   ],
   "source": [
    "X_test = np.array([[-0.18226127,  0.89023907, -1.50341987,  0.93105799, -0.05084473,\n",
    "       -0.16377395, -0.50924758,  1.09968647,  0.30587406]])\n",
    "\n",
    "clf = joblib.load('neural_network.pkl')\n",
    "\n",
    "# Выполняем предсказание с помощью загруженной модели\n",
    "prediction = clf.predict(X_test)\n",
    "display(prediction)"
   ]
  },
  {
   "cell_type": "code",
   "execution_count": null,
   "id": "2d3d02a9-c179-42d9-862f-5bd757ae8121",
   "metadata": {},
   "outputs": [],
   "source": []
  }
 ],
 "metadata": {
  "kernelspec": {
   "display_name": "Python 3 (ipykernel)",
   "language": "python",
   "name": "python3"
  },
  "language_info": {
   "codemirror_mode": {
    "name": "ipython",
    "version": 3
   },
   "file_extension": ".py",
   "mimetype": "text/x-python",
   "name": "python",
   "nbconvert_exporter": "python",
   "pygments_lexer": "ipython3",
   "version": "3.11.3"
  }
 },
 "nbformat": 4,
 "nbformat_minor": 5
}
