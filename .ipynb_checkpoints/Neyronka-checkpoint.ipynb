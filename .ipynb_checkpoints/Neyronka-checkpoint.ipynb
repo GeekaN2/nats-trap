{
 "cells": [
  {
   "cell_type": "code",
   "execution_count": 115,
   "id": "46a10984-8615-48cb-9637-ebe61e72ec16",
   "metadata": {
    "tags": []
   },
   "outputs": [],
   "source": [
    "import pandas as pd\n",
    "import numpy as np\n",
    "from sklearn.model_selection import train_test_split\n",
    "from sklearn.preprocessing import StandardScaler\n",
    "from sklearn.ensemble import RandomForestClassifier\n",
    "from sklearn.metrics import recall_score\n",
    "from sklearn.preprocessing import LabelEncoder\n",
    "from sklearn.metrics import accuracy_score\n",
    "import seaborn as sns\n",
    "import matplotlib.pyplot as plt\n",
    "from sklearn.decomposition import PCA"
   ]
  },
  {
   "cell_type": "code",
   "execution_count": 92,
   "id": "29fb219f-5355-495a-9825-31c64e2f4972",
   "metadata": {
    "tags": []
   },
   "outputs": [],
   "source": [
    "data = pd.read_csv('./market_order.csv', low_memory=False)\n",
    "data = data.dropna()"
   ]
  },
  {
   "cell_type": "code",
   "execution_count": 94,
   "id": "9f94a7d8-121a-4415-b031-f07317e89c15",
   "metadata": {
    "tags": []
   },
   "outputs": [
    {
     "data": {
      "text/html": [
       "<div>\n",
       "<style scoped>\n",
       "    .dataframe tbody tr th:only-of-type {\n",
       "        vertical-align: middle;\n",
       "    }\n",
       "\n",
       "    .dataframe tbody tr th {\n",
       "        vertical-align: top;\n",
       "    }\n",
       "\n",
       "    .dataframe thead th {\n",
       "        text-align: right;\n",
       "    }\n",
       "</style>\n",
       "<table border=\"1\" class=\"dataframe\">\n",
       "  <thead>\n",
       "    <tr style=\"text-align: right;\">\n",
       "      <th></th>\n",
       "      <th>OrderId</th>\n",
       "      <th>ItemId</th>\n",
       "      <th>LocationId</th>\n",
       "      <th>QualityLevel</th>\n",
       "      <th>UnitPriceSilver</th>\n",
       "      <th>Amount</th>\n",
       "      <th>AuctionType</th>\n",
       "      <th>Tier</th>\n",
       "      <th>Subtier</th>\n",
       "      <th>Trusted</th>\n",
       "    </tr>\n",
       "  </thead>\n",
       "  <tbody>\n",
       "    <tr>\n",
       "      <th>0</th>\n",
       "      <td>1.045748e+10</td>\n",
       "      <td>TREASURE_KNOWLEDGE_RARITY3</td>\n",
       "      <td>1002</td>\n",
       "      <td>1</td>\n",
       "      <td>23738</td>\n",
       "      <td>4</td>\n",
       "      <td>offer</td>\n",
       "      <td>1</td>\n",
       "      <td>0</td>\n",
       "      <td>True</td>\n",
       "    </tr>\n",
       "    <tr>\n",
       "      <th>1</th>\n",
       "      <td>1.045752e+10</td>\n",
       "      <td>TREASURE_KNOWLEDGE_RARITY3</td>\n",
       "      <td>1002</td>\n",
       "      <td>1</td>\n",
       "      <td>23736</td>\n",
       "      <td>1</td>\n",
       "      <td>offer</td>\n",
       "      <td>1</td>\n",
       "      <td>0</td>\n",
       "      <td>True</td>\n",
       "    </tr>\n",
       "    <tr>\n",
       "      <th>2</th>\n",
       "      <td>1.045749e+10</td>\n",
       "      <td>TREASURE_KNOWLEDGE_RARITY3</td>\n",
       "      <td>1002</td>\n",
       "      <td>1</td>\n",
       "      <td>23738</td>\n",
       "      <td>13</td>\n",
       "      <td>offer</td>\n",
       "      <td>1</td>\n",
       "      <td>0</td>\n",
       "      <td>True</td>\n",
       "    </tr>\n",
       "    <tr>\n",
       "      <th>3</th>\n",
       "      <td>1.045745e+10</td>\n",
       "      <td>TREASURE_KNOWLEDGE_RARITY3</td>\n",
       "      <td>1002</td>\n",
       "      <td>1</td>\n",
       "      <td>23739</td>\n",
       "      <td>16</td>\n",
       "      <td>offer</td>\n",
       "      <td>1</td>\n",
       "      <td>0</td>\n",
       "      <td>True</td>\n",
       "    </tr>\n",
       "    <tr>\n",
       "      <th>4</th>\n",
       "      <td>1.045742e+10</td>\n",
       "      <td>TREASURE_KNOWLEDGE_RARITY3</td>\n",
       "      <td>1002</td>\n",
       "      <td>1</td>\n",
       "      <td>23741</td>\n",
       "      <td>2</td>\n",
       "      <td>offer</td>\n",
       "      <td>1</td>\n",
       "      <td>0</td>\n",
       "      <td>True</td>\n",
       "    </tr>\n",
       "  </tbody>\n",
       "</table>\n",
       "</div>"
      ],
      "text/plain": [
       "        OrderId                      ItemId  LocationId  QualityLevel   \n",
       "0  1.045748e+10  TREASURE_KNOWLEDGE_RARITY3        1002             1  \\\n",
       "1  1.045752e+10  TREASURE_KNOWLEDGE_RARITY3        1002             1   \n",
       "2  1.045749e+10  TREASURE_KNOWLEDGE_RARITY3        1002             1   \n",
       "3  1.045745e+10  TREASURE_KNOWLEDGE_RARITY3        1002             1   \n",
       "4  1.045742e+10  TREASURE_KNOWLEDGE_RARITY3        1002             1   \n",
       "\n",
       "   UnitPriceSilver  Amount AuctionType  Tier  Subtier  Trusted  \n",
       "0            23738       4       offer     1        0     True  \n",
       "1            23736       1       offer     1        0     True  \n",
       "2            23738      13       offer     1        0     True  \n",
       "3            23739      16       offer     1        0     True  \n",
       "4            23741       2       offer     1        0     True  "
      ]
     },
     "metadata": {},
     "output_type": "display_data"
    },
    {
     "name": "stdout",
     "output_type": "stream",
     "text": [
      "<class 'pandas.core.frame.DataFrame'>\n",
      "Index: 3318020 entries, 0 to 3318736\n",
      "Data columns (total 10 columns):\n",
      " #   Column           Dtype  \n",
      "---  ------           -----  \n",
      " 0   OrderId          float64\n",
      " 1   ItemId           object \n",
      " 2   LocationId       int64  \n",
      " 3   QualityLevel     int64  \n",
      " 4   UnitPriceSilver  int64  \n",
      " 5   Amount           int64  \n",
      " 6   AuctionType      object \n",
      " 7   Tier             int64  \n",
      " 8   Subtier          int64  \n",
      " 9   Trusted          bool   \n",
      "dtypes: bool(1), float64(1), int64(6), object(2)\n",
      "memory usage: 256.3+ MB\n"
     ]
    },
    {
     "data": {
      "text/plain": [
       "None"
      ]
     },
     "metadata": {},
     "output_type": "display_data"
    },
    {
     "data": {
      "text/plain": [
       "OrderId            0\n",
       "ItemId             0\n",
       "LocationId         0\n",
       "QualityLevel       0\n",
       "UnitPriceSilver    0\n",
       "Amount             0\n",
       "AuctionType        0\n",
       "Tier               0\n",
       "Subtier            0\n",
       "Trusted            0\n",
       "dtype: int64"
      ]
     },
     "metadata": {},
     "output_type": "display_data"
    },
    {
     "data": {
      "text/html": [
       "<div>\n",
       "<style scoped>\n",
       "    .dataframe tbody tr th:only-of-type {\n",
       "        vertical-align: middle;\n",
       "    }\n",
       "\n",
       "    .dataframe tbody tr th {\n",
       "        vertical-align: top;\n",
       "    }\n",
       "\n",
       "    .dataframe thead th {\n",
       "        text-align: right;\n",
       "    }\n",
       "</style>\n",
       "<table border=\"1\" class=\"dataframe\">\n",
       "  <thead>\n",
       "    <tr style=\"text-align: right;\">\n",
       "      <th></th>\n",
       "      <th>OrderId</th>\n",
       "      <th>LocationId</th>\n",
       "      <th>QualityLevel</th>\n",
       "      <th>UnitPriceSilver</th>\n",
       "      <th>Amount</th>\n",
       "      <th>Tier</th>\n",
       "      <th>Subtier</th>\n",
       "    </tr>\n",
       "  </thead>\n",
       "  <tbody>\n",
       "    <tr>\n",
       "      <th>count</th>\n",
       "      <td>3.318020e+06</td>\n",
       "      <td>3.318020e+06</td>\n",
       "      <td>3.318020e+06</td>\n",
       "      <td>3.318020e+06</td>\n",
       "      <td>3.318020e+06</td>\n",
       "      <td>3.318020e+06</td>\n",
       "      <td>3.318020e+06</td>\n",
       "    </tr>\n",
       "    <tr>\n",
       "      <th>mean</th>\n",
       "      <td>1.215091e+10</td>\n",
       "      <td>2.343010e+03</td>\n",
       "      <td>1.964137e+00</td>\n",
       "      <td>3.251179e+05</td>\n",
       "      <td>9.402021e+01</td>\n",
       "      <td>5.151607e+00</td>\n",
       "      <td>6.869169e-01</td>\n",
       "    </tr>\n",
       "    <tr>\n",
       "      <th>std</th>\n",
       "      <td>9.300996e+09</td>\n",
       "      <td>1.307960e+03</td>\n",
       "      <td>1.112801e+00</td>\n",
       "      <td>2.423600e+06</td>\n",
       "      <td>5.686026e+02</td>\n",
       "      <td>1.680545e+00</td>\n",
       "      <td>1.022143e+00</td>\n",
       "    </tr>\n",
       "    <tr>\n",
       "      <th>min</th>\n",
       "      <td>3.817110e+05</td>\n",
       "      <td>7.000000e+00</td>\n",
       "      <td>1.000000e+00</td>\n",
       "      <td>1.000000e+00</td>\n",
       "      <td>0.000000e+00</td>\n",
       "      <td>1.000000e+00</td>\n",
       "      <td>0.000000e+00</td>\n",
       "    </tr>\n",
       "    <tr>\n",
       "      <th>25%</th>\n",
       "      <td>1.046150e+10</td>\n",
       "      <td>1.002000e+03</td>\n",
       "      <td>1.000000e+00</td>\n",
       "      <td>2.299000e+03</td>\n",
       "      <td>1.000000e+00</td>\n",
       "      <td>4.000000e+00</td>\n",
       "      <td>0.000000e+00</td>\n",
       "    </tr>\n",
       "    <tr>\n",
       "      <th>50%</th>\n",
       "      <td>1.046929e+10</td>\n",
       "      <td>3.003000e+03</td>\n",
       "      <td>2.000000e+00</td>\n",
       "      <td>1.545100e+04</td>\n",
       "      <td>1.000000e+00</td>\n",
       "      <td>5.000000e+00</td>\n",
       "      <td>0.000000e+00</td>\n",
       "    </tr>\n",
       "    <tr>\n",
       "      <th>75%</th>\n",
       "      <td>1.047739e+10</td>\n",
       "      <td>3.008000e+03</td>\n",
       "      <td>3.000000e+00</td>\n",
       "      <td>8.027425e+04</td>\n",
       "      <td>5.000000e+00</td>\n",
       "      <td>6.000000e+00</td>\n",
       "      <td>1.000000e+00</td>\n",
       "    </tr>\n",
       "    <tr>\n",
       "      <th>max</th>\n",
       "      <td>9.999932e+10</td>\n",
       "      <td>5.003000e+03</td>\n",
       "      <td>5.000000e+00</td>\n",
       "      <td>1.000000e+09</td>\n",
       "      <td>9.999000e+03</td>\n",
       "      <td>8.000000e+00</td>\n",
       "      <td>4.000000e+00</td>\n",
       "    </tr>\n",
       "  </tbody>\n",
       "</table>\n",
       "</div>"
      ],
      "text/plain": [
       "            OrderId    LocationId  QualityLevel  UnitPriceSilver   \n",
       "count  3.318020e+06  3.318020e+06  3.318020e+06     3.318020e+06  \\\n",
       "mean   1.215091e+10  2.343010e+03  1.964137e+00     3.251179e+05   \n",
       "std    9.300996e+09  1.307960e+03  1.112801e+00     2.423600e+06   \n",
       "min    3.817110e+05  7.000000e+00  1.000000e+00     1.000000e+00   \n",
       "25%    1.046150e+10  1.002000e+03  1.000000e+00     2.299000e+03   \n",
       "50%    1.046929e+10  3.003000e+03  2.000000e+00     1.545100e+04   \n",
       "75%    1.047739e+10  3.008000e+03  3.000000e+00     8.027425e+04   \n",
       "max    9.999932e+10  5.003000e+03  5.000000e+00     1.000000e+09   \n",
       "\n",
       "             Amount          Tier       Subtier  \n",
       "count  3.318020e+06  3.318020e+06  3.318020e+06  \n",
       "mean   9.402021e+01  5.151607e+00  6.869169e-01  \n",
       "std    5.686026e+02  1.680545e+00  1.022143e+00  \n",
       "min    0.000000e+00  1.000000e+00  0.000000e+00  \n",
       "25%    1.000000e+00  4.000000e+00  0.000000e+00  \n",
       "50%    1.000000e+00  5.000000e+00  0.000000e+00  \n",
       "75%    5.000000e+00  6.000000e+00  1.000000e+00  \n",
       "max    9.999000e+03  8.000000e+00  4.000000e+00  "
      ]
     },
     "metadata": {},
     "output_type": "display_data"
    }
   ],
   "source": [
    "display(data.head())\n",
    "display(data.info())\n",
    "display(data.isna().sum())\n",
    "display(data.describe())"
   ]
  },
  {
   "cell_type": "code",
   "execution_count": 95,
   "id": "5e4edde2-3a8e-4e83-bec2-9a3872f260ea",
   "metadata": {
    "tags": []
   },
   "outputs": [
    {
     "data": {
      "text/html": [
       "<div>\n",
       "<style scoped>\n",
       "    .dataframe tbody tr th:only-of-type {\n",
       "        vertical-align: middle;\n",
       "    }\n",
       "\n",
       "    .dataframe tbody tr th {\n",
       "        vertical-align: top;\n",
       "    }\n",
       "\n",
       "    .dataframe thead th {\n",
       "        text-align: right;\n",
       "    }\n",
       "</style>\n",
       "<table border=\"1\" class=\"dataframe\">\n",
       "  <thead>\n",
       "    <tr style=\"text-align: right;\">\n",
       "      <th></th>\n",
       "      <th>OrderId</th>\n",
       "      <th>ItemId</th>\n",
       "      <th>LocationId</th>\n",
       "      <th>QualityLevel</th>\n",
       "      <th>UnitPriceSilver</th>\n",
       "      <th>Amount</th>\n",
       "      <th>AuctionType</th>\n",
       "      <th>Tier</th>\n",
       "      <th>Subtier</th>\n",
       "      <th>Trusted</th>\n",
       "    </tr>\n",
       "  </thead>\n",
       "  <tbody>\n",
       "    <tr>\n",
       "      <th>0</th>\n",
       "      <td>1.045748e+10</td>\n",
       "      <td>8196</td>\n",
       "      <td>1</td>\n",
       "      <td>1</td>\n",
       "      <td>23738</td>\n",
       "      <td>4</td>\n",
       "      <td>0</td>\n",
       "      <td>1</td>\n",
       "      <td>0</td>\n",
       "      <td>1</td>\n",
       "    </tr>\n",
       "    <tr>\n",
       "      <th>1</th>\n",
       "      <td>1.045752e+10</td>\n",
       "      <td>8196</td>\n",
       "      <td>1</td>\n",
       "      <td>1</td>\n",
       "      <td>23736</td>\n",
       "      <td>1</td>\n",
       "      <td>0</td>\n",
       "      <td>1</td>\n",
       "      <td>0</td>\n",
       "      <td>1</td>\n",
       "    </tr>\n",
       "    <tr>\n",
       "      <th>2</th>\n",
       "      <td>1.045749e+10</td>\n",
       "      <td>8196</td>\n",
       "      <td>1</td>\n",
       "      <td>1</td>\n",
       "      <td>23738</td>\n",
       "      <td>13</td>\n",
       "      <td>0</td>\n",
       "      <td>1</td>\n",
       "      <td>0</td>\n",
       "      <td>1</td>\n",
       "    </tr>\n",
       "    <tr>\n",
       "      <th>3</th>\n",
       "      <td>1.045745e+10</td>\n",
       "      <td>8196</td>\n",
       "      <td>1</td>\n",
       "      <td>1</td>\n",
       "      <td>23739</td>\n",
       "      <td>16</td>\n",
       "      <td>0</td>\n",
       "      <td>1</td>\n",
       "      <td>0</td>\n",
       "      <td>1</td>\n",
       "    </tr>\n",
       "    <tr>\n",
       "      <th>4</th>\n",
       "      <td>1.045742e+10</td>\n",
       "      <td>8196</td>\n",
       "      <td>1</td>\n",
       "      <td>1</td>\n",
       "      <td>23741</td>\n",
       "      <td>2</td>\n",
       "      <td>0</td>\n",
       "      <td>1</td>\n",
       "      <td>0</td>\n",
       "      <td>1</td>\n",
       "    </tr>\n",
       "  </tbody>\n",
       "</table>\n",
       "</div>"
      ],
      "text/plain": [
       "        OrderId  ItemId  LocationId  QualityLevel  UnitPriceSilver  Amount   \n",
       "0  1.045748e+10    8196           1             1            23738       4  \\\n",
       "1  1.045752e+10    8196           1             1            23736       1   \n",
       "2  1.045749e+10    8196           1             1            23738      13   \n",
       "3  1.045745e+10    8196           1             1            23739      16   \n",
       "4  1.045742e+10    8196           1             1            23741       2   \n",
       "\n",
       "   AuctionType  Tier  Subtier  Trusted  \n",
       "0            0     1        0        1  \n",
       "1            0     1        0        1  \n",
       "2            0     1        0        1  \n",
       "3            0     1        0        1  \n",
       "4            0     1        0        1  "
      ]
     },
     "metadata": {},
     "output_type": "display_data"
    }
   ],
   "source": [
    "labelencoder = LabelEncoder()\n",
    "data_new = labelencoder.fit_transform(data['ItemId'].values)\n",
    "data['ItemId'] = labelencoder.fit_transform(data['ItemId'].values)\n",
    "data['AuctionType'] = labelencoder.fit_transform(data['AuctionType'].values)\n",
    "data['LocationId'] = labelencoder.fit_transform(data['LocationId'].values)\n",
    "data['Trusted'] = labelencoder.fit_transform(data['Trusted'].values)\n",
    "display(data.head())"
   ]
  },
  {
   "cell_type": "code",
   "execution_count": 96,
   "id": "908ccdff-6d15-43fa-ae42-730883f8ea15",
   "metadata": {
    "tags": []
   },
   "outputs": [],
   "source": [
    "X = data.drop('Trusted', axis=1) # признаки\n",
    "y = data['Trusted'] # целевая переменная"
   ]
  },
  {
   "cell_type": "code",
   "execution_count": 97,
   "id": "92034fb6-56ea-4104-9f2f-7671f8bfbc7a",
   "metadata": {
    "tags": []
   },
   "outputs": [],
   "source": [
    "X_train, X_test, y_train, y_test = train_test_split(X, y, test_size=0.2, random_state=51)"
   ]
  },
  {
   "cell_type": "code",
   "execution_count": 98,
   "id": "e80f4c69-d3f6-414f-9f71-3625e51ccf28",
   "metadata": {
    "tags": []
   },
   "outputs": [
    {
     "data": {
      "text/plain": [
       "array([[-0.18226127,  0.89023907, -1.50341987, ..., -0.50924758,\n",
       "         1.09968647,  0.30587406],\n",
       "       [-0.1795979 ,  1.09603271,  0.89273456, ..., -0.50924758,\n",
       "         1.09968647, -0.67222017],\n",
       "       [-0.18099674,  0.5965636 , -0.5449581 , ..., -0.50924758,\n",
       "         0.50454939, -0.67222017],\n",
       "       ...,\n",
       "       [ 0.02864547,  1.54824878, -0.06572721, ..., -0.50924758,\n",
       "         1.69482355, -0.67222017],\n",
       "       [-0.18161905, -1.03212083, -1.50341987, ...,  1.96368141,\n",
       "        -0.68572476,  1.28396829],\n",
       "       [-0.18276293,  0.57978214, -0.5449581 , ..., -0.50924758,\n",
       "         0.50454939,  0.30587406]])"
      ]
     },
     "metadata": {},
     "output_type": "display_data"
    },
    {
     "data": {
      "text/plain": [
       "array([1, 1, 1, ..., 1, 1, 0])"
      ]
     },
     "metadata": {},
     "output_type": "display_data"
    }
   ],
   "source": [
    "ss = StandardScaler()\n",
    "X_train_scaled = ss.fit_transform(X_train)\n",
    "X_test_scaled = ss.transform(X_test)\n",
    "y_train = np.array(y_train)\n",
    "display(X_test_scaled)\n",
    "display(y_train)"
   ]
  },
  {
   "cell_type": "code",
   "execution_count": 105,
   "id": "3de4263e-a78b-42e7-ae31-bb141a5d1407",
   "metadata": {
    "tags": []
   },
   "outputs": [],
   "source": [
    "# rfc = RandomForestClassifier(n_estimators=100, max_depth=2, random_state=0)\n",
    "rfc = RandomForestClassifier()"
   ]
  },
  {
   "cell_type": "code",
   "execution_count": 106,
   "id": "6c32cbff-ea0a-4852-b022-e7938cf60d5d",
   "metadata": {
    "tags": []
   },
   "outputs": [
    {
     "data": {
      "text/plain": [
       "1.0"
      ]
     },
     "metadata": {},
     "output_type": "display_data"
    }
   ],
   "source": [
    "rfc.fit(X_train_scaled, y_train)\n",
    "display(rfc.score(X_train_scaled, y_train))"
   ]
  },
  {
   "cell_type": "code",
   "execution_count": 113,
   "id": "b9ce0698-cfcf-4e17-af29-ddb3a469a1be",
   "metadata": {
    "tags": []
   },
   "outputs": [
    {
     "data": {
      "image/png": "[encoded data removed]",
      "text/plain": [
       "<Figure size 3000x1500 with 1 Axes>"
      ]
     },
     "metadata": {},
     "output_type": "display_data"
    },
    {
     "data": {
      "text/plain": [
       "None"
      ]
     },
     "metadata": {},
     "output_type": "display_data"
    },
    {
     "data": {
      "text/html": [
       "<div>\n",
       "<style scoped>\n",
       "    .dataframe tbody tr th:only-of-type {\n",
       "        vertical-align: middle;\n",
       "    }\n",
       "\n",
       "    .dataframe tbody tr th {\n",
       "        vertical-align: top;\n",
       "    }\n",
       "\n",
       "    .dataframe thead th {\n",
       "        text-align: right;\n",
       "    }\n",
       "</style>\n",
       "<table border=\"1\" class=\"dataframe\">\n",
       "  <thead>\n",
       "    <tr style=\"text-align: right;\">\n",
       "      <th></th>\n",
       "      <th>Features</th>\n",
       "      <th>Gini-Importance</th>\n",
       "    </tr>\n",
       "  </thead>\n",
       "  <tbody>\n",
       "    <tr>\n",
       "      <th>0</th>\n",
       "      <td>OrderId</td>\n",
       "      <td>0.472322</td>\n",
       "    </tr>\n",
       "    <tr>\n",
       "      <th>1</th>\n",
       "      <td>UnitPriceSilver</td>\n",
       "      <td>0.293802</td>\n",
       "    </tr>\n",
       "    <tr>\n",
       "      <th>2</th>\n",
       "      <td>Amount</td>\n",
       "      <td>0.144023</td>\n",
       "    </tr>\n",
       "    <tr>\n",
       "      <th>3</th>\n",
       "      <td>Subtier</td>\n",
       "      <td>0.046489</td>\n",
       "    </tr>\n",
       "    <tr>\n",
       "      <th>4</th>\n",
       "      <td>QualityLevel</td>\n",
       "      <td>0.023011</td>\n",
       "    </tr>\n",
       "    <tr>\n",
       "      <th>5</th>\n",
       "      <td>ItemId</td>\n",
       "      <td>0.008731</td>\n",
       "    </tr>\n",
       "    <tr>\n",
       "      <th>6</th>\n",
       "      <td>Tier</td>\n",
       "      <td>0.008270</td>\n",
       "    </tr>\n",
       "    <tr>\n",
       "      <th>7</th>\n",
       "      <td>LocationId</td>\n",
       "      <td>0.002463</td>\n",
       "    </tr>\n",
       "    <tr>\n",
       "      <th>8</th>\n",
       "      <td>AuctionType</td>\n",
       "      <td>0.000890</td>\n",
       "    </tr>\n",
       "  </tbody>\n",
       "</table>\n",
       "</div>"
      ],
      "text/plain": [
       "          Features  Gini-Importance\n",
       "0          OrderId         0.472322\n",
       "1  UnitPriceSilver         0.293802\n",
       "2           Amount         0.144023\n",
       "3          Subtier         0.046489\n",
       "4     QualityLevel         0.023011\n",
       "5           ItemId         0.008731\n",
       "6             Tier         0.008270\n",
       "7       LocationId         0.002463\n",
       "8      AuctionType         0.000890"
      ]
     },
     "metadata": {},
     "output_type": "display_data"
    }
   ],
   "source": [
    "feats = {}\n",
    "for feature, importance in zip(data.columns, rfc.feature_importances_):\n",
    "    feats[feature] = importance\n",
    "importances = pd.DataFrame.from_dict(feats, orient='index').rename(columns={0: 'Gini-Importance'})\n",
    "importances = importances.sort_values(by='Gini-Importance', ascending=False)\n",
    "importances = importances.reset_index()\n",
    "importances = importances.rename(columns={'index': 'Features'})\n",
    "sns.set(font_scale = 5)\n",
    "sns.set(style=\"whitegrid\", color_codes=True, font_scale = 1.7)\n",
    "fig, ax = plt.subplots()\n",
    "fig.set_size_inches(30,15)\n",
    "sns.barplot(x=importances['Gini-Importance'], y=importances['Features'], data=importances, color='skyblue')\n",
    "plt.xlabel('Importance', fontsize=25, weight = 'bold')\n",
    "plt.ylabel('Features', fontsize=25, weight = 'bold')\n",
    "plt.title('Feature Importance', fontsize=25, weight = 'bold')\n",
    "display(plt.show())\n",
    "display(importances)"
   ]
  },
  {
   "cell_type": "code",
   "execution_count": 119,
   "id": "c8bcf8e9-c2d2-4952-bb29-8b294f32db2b",
   "metadata": {
    "tags": []
   },
   "outputs": [
    {
     "data": {
      "image/png": "[encoded data removed]",
      "text/plain": [
       "<Figure size 640x480 with 1 Axes>"
      ]
     },
     "metadata": {},
     "output_type": "display_data"
    },
    {
     "data": {
      "text/plain": [
       "None"
      ]
     },
     "metadata": {},
     "output_type": "display_data"
    },
    {
     "data": {
      "text/html": [
       "<div>\n",
       "<style scoped>\n",
       "    .dataframe tbody tr th:only-of-type {\n",
       "        vertical-align: middle;\n",
       "    }\n",
       "\n",
       "    .dataframe tbody tr th {\n",
       "        vertical-align: top;\n",
       "    }\n",
       "\n",
       "    .dataframe thead th {\n",
       "        text-align: right;\n",
       "    }\n",
       "</style>\n",
       "<table border=\"1\" class=\"dataframe\">\n",
       "  <thead>\n",
       "    <tr style=\"text-align: right;\">\n",
       "      <th></th>\n",
       "      <th>Cumulative Variance Ratio</th>\n",
       "      <th>Explained Variance Ratio</th>\n",
       "    </tr>\n",
       "  </thead>\n",
       "  <tbody>\n",
       "    <tr>\n",
       "      <th>0</th>\n",
       "      <td>0.217832</td>\n",
       "      <td>0.217832</td>\n",
       "    </tr>\n",
       "    <tr>\n",
       "      <th>1</th>\n",
       "      <td>0.374502</td>\n",
       "      <td>0.156669</td>\n",
       "    </tr>\n",
       "    <tr>\n",
       "      <th>2</th>\n",
       "      <td>0.510984</td>\n",
       "      <td>0.136482</td>\n",
       "    </tr>\n",
       "    <tr>\n",
       "      <th>3</th>\n",
       "      <td>0.621762</td>\n",
       "      <td>0.110778</td>\n",
       "    </tr>\n",
       "    <tr>\n",
       "      <th>4</th>\n",
       "      <td>0.724484</td>\n",
       "      <td>0.102721</td>\n",
       "    </tr>\n",
       "    <tr>\n",
       "      <th>5</th>\n",
       "      <td>0.816550</td>\n",
       "      <td>0.092067</td>\n",
       "    </tr>\n",
       "    <tr>\n",
       "      <th>6</th>\n",
       "      <td>0.891107</td>\n",
       "      <td>0.074557</td>\n",
       "    </tr>\n",
       "    <tr>\n",
       "      <th>7</th>\n",
       "      <td>0.957416</td>\n",
       "      <td>0.066309</td>\n",
       "    </tr>\n",
       "    <tr>\n",
       "      <th>8</th>\n",
       "      <td>1.000000</td>\n",
       "      <td>0.042584</td>\n",
       "    </tr>\n",
       "  </tbody>\n",
       "</table>\n",
       "</div>"
      ],
      "text/plain": [
       "   Cumulative Variance Ratio  Explained Variance Ratio\n",
       "0                   0.217832                  0.217832\n",
       "1                   0.374502                  0.156669\n",
       "2                   0.510984                  0.136482\n",
       "3                   0.621762                  0.110778\n",
       "4                   0.724484                  0.102721\n",
       "5                   0.816550                  0.092067\n",
       "6                   0.891107                  0.074557\n",
       "7                   0.957416                  0.066309\n",
       "8                   1.000000                  0.042584"
      ]
     },
     "metadata": {},
     "output_type": "display_data"
    }
   ],
   "source": [
    "pca_test = PCA(n_components=9)\n",
    "pca_test.fit(X_train_scaled)\n",
    "sns.set(style='whitegrid')\n",
    "plt.plot(np.cumsum(pca_test.explained_variance_ratio_))\n",
    "plt.xlabel('number of components')\n",
    "plt.ylabel('cumulative explained variance')\n",
    "plt.axvline(linewidth=4, color='r', linestyle = '--', x=5, ymin=0, ymax=1)\n",
    "display(plt.show())\n",
    "evr = pca_test.explained_variance_ratio_\n",
    "cvr = np.cumsum(pca_test.explained_variance_ratio_)\n",
    "pca_df = pd.DataFrame()\n",
    "pca_df['Cumulative Variance Ratio'] = cvr\n",
    "pca_df['Explained Variance Ratio'] = evr\n",
    "display(pca_df.head(10))"
   ]
  },
  {
   "cell_type": "code",
   "execution_count": 121,
   "id": "d1d166cb-45bf-4bfc-a44d-baa982f7a657",
   "metadata": {
    "tags": []
   },
   "outputs": [],
   "source": [
    "y_pred = rfc.predict(X_test_scaled)"
   ]
  },
  {
   "cell_type": "code",
   "execution_count": 122,
   "id": "612d7c7d-9756-40c5-98c5-d3f84f2f7bc7",
   "metadata": {
    "tags": []
   },
   "outputs": [
    {
     "data": {
      "text/html": [
       "<div>\n",
       "<style scoped>\n",
       "    .dataframe tbody tr th:only-of-type {\n",
       "        vertical-align: middle;\n",
       "    }\n",
       "\n",
       "    .dataframe tbody tr th {\n",
       "        vertical-align: top;\n",
       "    }\n",
       "\n",
       "    .dataframe thead th {\n",
       "        text-align: right;\n",
       "    }\n",
       "</style>\n",
       "<table border=\"1\" class=\"dataframe\">\n",
       "  <thead>\n",
       "    <tr style=\"text-align: right;\">\n",
       "      <th></th>\n",
       "      <th>predicted 0</th>\n",
       "      <th>predicted 1</th>\n",
       "    </tr>\n",
       "  </thead>\n",
       "  <tbody>\n",
       "    <tr>\n",
       "      <th>actual 0</th>\n",
       "      <td>24472</td>\n",
       "      <td>9</td>\n",
       "    </tr>\n",
       "    <tr>\n",
       "      <th>actual 1</th>\n",
       "      <td>0</td>\n",
       "      <td>639123</td>\n",
       "    </tr>\n",
       "  </tbody>\n",
       "</table>\n",
       "</div>"
      ],
      "text/plain": [
       "          predicted 0  predicted 1\n",
       "actual 0        24472            9\n",
       "actual 1            0       639123"
      ]
     },
     "metadata": {},
     "output_type": "display_data"
    },
    {
     "data": {
      "text/plain": [
       "'Baseline Random Forest recall score'"
      ]
     },
     "metadata": {},
     "output_type": "display_data"
    },
    {
     "data": {
      "text/plain": [
       "1.0"
      ]
     },
     "metadata": {},
     "output_type": "display_data"
    }
   ],
   "source": [
    "from sklearn.metrics import confusion_matrix\n",
    "conf_matrix_baseline = pd.DataFrame(confusion_matrix(y_test, y_pred), index = ['actual 0', 'actual 1'], columns = ['predicted 0', 'predicted 1'])\n",
    "display(conf_matrix_baseline)\n",
    "display('Baseline Random Forest recall score', recall_score(y_test, y_pred))\n"
   ]
  },
  {
   "cell_type": "code",
   "execution_count": null,
   "id": "62149e8b-2d4b-4287-a318-185b29b77fed",
   "metadata": {},
   "outputs": [],
   "source": []
  }
 ],
 "metadata": {
  "kernelspec": {
   "display_name": "Python 3 (ipykernel)",
   "language": "python",
   "name": "python3"
  },
  "language_info": {
   "codemirror_mode": {
    "name": "ipython",
    "version": 3
   },
   "file_extension": ".py",
   "mimetype": "text/x-python",
   "name": "python",
   "nbconvert_exporter": "python",
   "pygments_lexer": "ipython3",
   "version": "3.11.3"
  }
 },
 "nbformat": 4,
 "nbformat_minor": 5
}
